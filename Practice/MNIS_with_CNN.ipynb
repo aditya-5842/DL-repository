{
 "cells": [
  {
   "cell_type": "markdown",
   "metadata": {
    "colab_type": "text",
    "id": "MkcuCh2ZcdsN"
   },
   "source": [
    "**Importing important libraries and function** "
   ]
  },
  {
   "cell_type": "code",
   "execution_count": 1,
   "metadata": {
    "colab": {
     "base_uri": "https://localhost:8080/",
     "height": 34
    },
    "colab_type": "code",
    "id": "JqTDbAo4a0zm",
    "outputId": "ba7681ca-6724-4708-8770-b976fc4b9183"
   },
   "outputs": [
    {
     "name": "stderr",
     "output_type": "stream",
     "text": [
      "Using TensorFlow backend.\n"
     ]
    }
   ],
   "source": [
    "from keras.datasets import mnist\n",
    "from keras.utils import np_utils \n",
    "from keras.models import Sequential\n",
    "from keras.layers import Dense, Activation, Dropout, Conv2D, MaxPooling2D, Flatten\n",
    "from keras.layers.normalization import BatchNormalization\n",
    "from keras.initializers import RandomNormal\n",
    "\n",
    "import seaborn as sns\n",
    "import numpy as np\n",
    "import matplotlib.pyplot as plt\n",
    "from prettytable import PrettyTable"
   ]
  },
  {
   "cell_type": "markdown",
   "metadata": {
    "colab_type": "text",
    "id": "Yo6Ci5HmcniV"
   },
   "source": [
    "* **Load the data and Normalazie it**\n",
    "* **Define the batch size and epochs**"
   ]
  },
  {
   "cell_type": "code",
   "execution_count": 2,
   "metadata": {
    "colab": {
     "base_uri": "https://localhost:8080/",
     "height": 119
    },
    "colab_type": "code",
    "id": "82v8qkB0cJOb",
    "outputId": "49221597-e801-4629-bbcd-f1cbf3b4b0ac"
   },
   "outputs": [
    {
     "name": "stdout",
     "output_type": "stream",
     "text": [
      "Downloading data from https://s3.amazonaws.com/img-datasets/mnist.npz\n",
      "11493376/11490434 [==============================] - 2s 0us/step\n",
      "Number of training examples : 60000 and each image is of shape (28, 28)\n",
      "Number of training examples : 10000 and each image is of shape (28, 28)\n",
      "Class label of first image : 5\n",
      "After converting the output into a vector :  [0. 0. 0. 0. 0. 1. 0. 0. 0. 0.]\n"
     ]
    }
   ],
   "source": [
    "# the data, shuffled and split between train and test sets \n",
    "(X_train, y_train), (X_test, y_test) = mnist.load_data()\n",
    "print(\"Number of training examples :\", X_train.shape[0], \n",
    "      \"and each image is of shape (%d, %d)\"%(X_train.shape[1], X_train.shape[2]))\n",
    "print(\"Number of training examples :\", X_test.shape[0], \n",
    "      \"and each image is of shape (%d, %d)\"%(X_test.shape[1], X_test.shape[2]))\n",
    "\n",
    "#pixcels values are from 0-255, so divide each pixel by 255 (to noramalize)\n",
    "X_train, X_test = X_train/255, X_test/255\n",
    "\n",
    "#converting labels into one-hot encoded: there are 10 labels so new vector will be 10 dimensional\n",
    "Y_train = np_utils.to_categorical(y_train, 10) \n",
    "Y_test = np_utils.to_categorical(y_test, 10)\n",
    "print(\"Class label of first image :\", y_train[0])\n",
    "print(\"After converting the output into a vector : \",Y_train[0])\n",
    "\n",
    "batch_size = 128 #2^7\n",
    "epochs = 20\n",
    "num_class = 10"
   ]
  },
  {
   "cell_type": "markdown",
   "metadata": {
    "colab_type": "text",
    "id": "MsD9Yvvh17dI"
   },
   "source": [
    "* Each input of train and test data in 3-dimension but Conv2D will need 4dimension input. So adding one more dimension in train and test data."
   ]
  },
  {
   "cell_type": "code",
   "execution_count": 3,
   "metadata": {
    "colab": {
     "base_uri": "https://localhost:8080/",
     "height": 51
    },
    "colab_type": "code",
    "id": "FJEGH3pg1byR",
    "outputId": "51212941-08b7-4249-e065-6ac47dbd48ca"
   },
   "outputs": [
    {
     "name": "stdout",
     "output_type": "stream",
     "text": [
      "Shape of X_train is:  (60000, 28, 28) So each input will have 3 dimensions\n",
      "After adding one more dimension shape of train data is:  (60000, 28, 28, 1) each input has 4 dimensions\n"
     ]
    }
   ],
   "source": [
    "print('Shape of X_train is: ', X_train.shape, 'So each input will have {} dimensions'.format(len(X_train.shape)))\n",
    "X_train = X_train.reshape(X_train.shape[0], X_train.shape[1], X_train.shape[2], 1)\n",
    "X_test = X_test.reshape(X_test.shape[0], X_test.shape[1], X_test.shape[2], 1)\n",
    "print('After adding one more dimension shape of train data is: ', X_train.shape, 'each input has {} dimensions'.format(len(X_train.shape)))"
   ]
  },
  {
   "cell_type": "markdown",
   "metadata": {
    "colab_type": "text",
    "id": "Kc2p4eG_hS97"
   },
   "source": [
    "**NOTE:** \n",
    "* I'll keep my optimizer as **Adam**.\n",
    "* I'll choose two different types of kerenl (3x3), (5x5) and (7,7) for ConvNet and (2,2), (3,3) and (5,5) for max pool.\n",
    "\n"
   ]
  },
  {
   "cell_type": "markdown",
   "metadata": {
    "colab_type": "text",
    "id": "s40JhcxFfP-A"
   },
   "source": [
    "# With 3-CovNet Layers"
   ]
  },
  {
   "cell_type": "markdown",
   "metadata": {
    "colab_type": "text",
    "id": "1lZFD4MixlXQ"
   },
   "source": [
    "**References**\n",
    "* https://keras.io/layers/convolutional/\n",
    "* https://keras.io/initializers/\n",
    "* https://keras.io/layers/pooling/\n",
    "* https://keras.io/optimizers/\n",
    "* https://keras.io/layers/pooling/"
   ]
  },
  {
   "cell_type": "code",
   "execution_count": 0,
   "metadata": {
    "colab": {},
    "colab_type": "code",
    "id": "0NWI5VX8hJH3"
   },
   "outputs": [],
   "source": [
    "#  http://zetcode.com/python/prettytable/           \n",
    "x = PrettyTable()\n",
    "x.field_names = [\"Architecture\", \"Optimizer\", \"Test Loss\", \"Test Accuracy\"]"
   ]
  },
  {
   "cell_type": "markdown",
   "metadata": {
    "colab_type": "text",
    "id": "jkfxOihgjdcz"
   },
   "source": [
    "***input --> ConvNet(3,3)16 --> relu --> ConveNet(3,3)32 --> relu --> batch normalization+dropout(0.5) --> ConvNet(3,3)64 --> MaxPooling[(3,3),s=3] --> flatten --> 1FC layer(512) --> softmax(10)***"
   ]
  },
  {
   "cell_type": "code",
   "execution_count": 5,
   "metadata": {
    "colab": {
     "base_uri": "https://localhost:8080/",
     "height": 768
    },
    "colab_type": "code",
    "id": "rtmfgw-zfkoo",
    "outputId": "0a2dfd9f-3041-4133-92b5-7b2cf068c4c1"
   },
   "outputs": [
    {
     "name": "stdout",
     "output_type": "stream",
     "text": [
      "WARNING:tensorflow:From /usr/local/lib/python3.6/dist-packages/keras/backend/tensorflow_backend.py:66: The name tf.get_default_graph is deprecated. Please use tf.compat.v1.get_default_graph instead.\n",
      "\n",
      "WARNING:tensorflow:From /usr/local/lib/python3.6/dist-packages/keras/backend/tensorflow_backend.py:541: The name tf.placeholder is deprecated. Please use tf.compat.v1.placeholder instead.\n",
      "\n",
      "WARNING:tensorflow:From /usr/local/lib/python3.6/dist-packages/keras/backend/tensorflow_backend.py:4479: The name tf.truncated_normal is deprecated. Please use tf.random.truncated_normal instead.\n",
      "\n",
      "WARNING:tensorflow:From /usr/local/lib/python3.6/dist-packages/keras/backend/tensorflow_backend.py:190: The name tf.get_default_session is deprecated. Please use tf.compat.v1.get_default_session instead.\n",
      "\n",
      "WARNING:tensorflow:From /usr/local/lib/python3.6/dist-packages/keras/backend/tensorflow_backend.py:197: The name tf.ConfigProto is deprecated. Please use tf.compat.v1.ConfigProto instead.\n",
      "\n",
      "WARNING:tensorflow:From /usr/local/lib/python3.6/dist-packages/keras/backend/tensorflow_backend.py:2041: The name tf.nn.fused_batch_norm is deprecated. Please use tf.compat.v1.nn.fused_batch_norm instead.\n",
      "\n",
      "WARNING:tensorflow:From /usr/local/lib/python3.6/dist-packages/keras/backend/tensorflow_backend.py:3733: calling dropout (from tensorflow.python.ops.nn_ops) with keep_prob is deprecated and will be removed in a future version.\n",
      "Instructions for updating:\n",
      "Please use `rate` instead of `keep_prob`. Rate should be set to `rate = 1 - keep_prob`.\n",
      "WARNING:tensorflow:From /usr/local/lib/python3.6/dist-packages/keras/backend/tensorflow_backend.py:4267: The name tf.nn.max_pool is deprecated. Please use tf.nn.max_pool2d instead.\n",
      "\n",
      "Model: \"sequential_1\"\n",
      "_________________________________________________________________\n",
      "Layer (type)                 Output Shape              Param #   \n",
      "=================================================================\n",
      "conv2d_1 (Conv2D)            (None, 28, 28, 16)        160       \n",
      "_________________________________________________________________\n",
      "conv2d_2 (Conv2D)            (None, 28, 28, 32)        4640      \n",
      "_________________________________________________________________\n",
      "batch_normalization_1 (Batch (None, 28, 28, 32)        128       \n",
      "_________________________________________________________________\n",
      "dropout_1 (Dropout)          (None, 28, 28, 32)        0         \n",
      "_________________________________________________________________\n",
      "conv2d_3 (Conv2D)            (None, 28, 28, 64)        18496     \n",
      "_________________________________________________________________\n",
      "max_pooling2d_1 (MaxPooling2 (None, 10, 10, 64)        0         \n",
      "_________________________________________________________________\n",
      "flatten_1 (Flatten)          (None, 6400)              0         \n",
      "_________________________________________________________________\n",
      "dense_1 (Dense)              (None, 512)               3277312   \n",
      "_________________________________________________________________\n",
      "dense_2 (Dense)              (None, 10)                5130      \n",
      "=================================================================\n",
      "Total params: 3,305,866\n",
      "Trainable params: 3,305,802\n",
      "Non-trainable params: 64\n",
      "_________________________________________________________________\n"
     ]
    }
   ],
   "source": [
    "model = Sequential()\n",
    "#first ConvNet Layer\n",
    "model.add(Conv2D(16, kernel_size = (3,3), activation = 'relu', padding = 'same', \n",
    "                 input_shape = (X_train.shape[1], X_train.shape[2],1),\n",
    "                 kernel_initializer = 'he_normal', data_format = 'channels_last'))\n",
    "\n",
    "#second ConvNet Layer\n",
    "model.add(Conv2D(32, kernel_size = (3,3), activation = 'relu', padding = 'same',\n",
    "                kernel_initializer = 'he_normal'))\n",
    "#adding BatchNomralization layer\n",
    "model.add(BatchNormalization())\n",
    "# adding dropout\n",
    "model.add(Dropout(0.3))\n",
    "\n",
    "#third ConvNet Layer\n",
    "model.add(Conv2D(64, kernel_size = (3,3), activation = 'relu', padding = 'same',\n",
    "                kernel_initializer = 'he_normal'))\n",
    "\n",
    "# adding MaxPooling\n",
    "model.add(MaxPooling2D(pool_size = (3,3), padding = 'same', strides = 3)) #by deafult strides pool_size\n",
    "\n",
    "#flatten\n",
    "model.add(Flatten())\n",
    "\n",
    "# fully connected layer: layer-4\n",
    "model.add(Dense(512, activation = 'relu', kernel_initializer = 'he_normal'))\n",
    "\n",
    "#output layer\n",
    "model.add(Dense(num_class, activation = 'softmax', kernel_initializer = 'he_normal'))\n",
    "\n",
    "model.summary()"
   ]
  },
  {
   "cell_type": "code",
   "execution_count": 6,
   "metadata": {
    "colab": {
     "base_uri": "https://localhost:8080/",
     "height": 819
    },
    "colab_type": "code",
    "id": "rhUBFiRRfrJt",
    "outputId": "13c1f98b-03b1-41cc-93ea-5ccabdbc8f81"
   },
   "outputs": [
    {
     "name": "stdout",
     "output_type": "stream",
     "text": [
      "WARNING:tensorflow:From /usr/local/lib/python3.6/dist-packages/keras/optimizers.py:793: The name tf.train.Optimizer is deprecated. Please use tf.compat.v1.train.Optimizer instead.\n",
      "\n",
      "WARNING:tensorflow:From /usr/local/lib/python3.6/dist-packages/tensorflow/python/ops/math_grad.py:1250: add_dispatch_support.<locals>.wrapper (from tensorflow.python.ops.array_ops) is deprecated and will be removed in a future version.\n",
      "Instructions for updating:\n",
      "Use tf.where in 2.0, which has the same broadcast rule as np.where\n",
      "Train on 60000 samples, validate on 10000 samples\n",
      "Epoch 1/20\n",
      "60000/60000 [==============================] - 18s 297us/step - loss: 11.5355 - acc: 0.2768 - val_loss: 11.4821 - val_acc: 0.2856\n",
      "Epoch 2/20\n",
      "60000/60000 [==============================] - 14s 238us/step - loss: 11.4719 - acc: 0.2864 - val_loss: 11.4524 - val_acc: 0.2881\n",
      "Epoch 3/20\n",
      "60000/60000 [==============================] - 14s 240us/step - loss: 10.4619 - acc: 0.3360 - val_loss: 0.1850 - val_acc: 0.9519\n",
      "Epoch 4/20\n",
      "60000/60000 [==============================] - 15s 242us/step - loss: 0.0777 - acc: 0.9757 - val_loss: 0.0506 - val_acc: 0.9842\n",
      "Epoch 5/20\n",
      "60000/60000 [==============================] - 15s 242us/step - loss: 0.0402 - acc: 0.9875 - val_loss: 0.0370 - val_acc: 0.9879\n",
      "Epoch 6/20\n",
      "60000/60000 [==============================] - 15s 242us/step - loss: 0.0279 - acc: 0.9910 - val_loss: 0.0411 - val_acc: 0.9880\n",
      "Epoch 7/20\n",
      "60000/60000 [==============================] - 14s 240us/step - loss: 0.0228 - acc: 0.9930 - val_loss: 0.0353 - val_acc: 0.9888\n",
      "Epoch 8/20\n",
      "60000/60000 [==============================] - 14s 240us/step - loss: 0.0188 - acc: 0.9936 - val_loss: 0.0319 - val_acc: 0.9909\n",
      "Epoch 9/20\n",
      "60000/60000 [==============================] - 14s 239us/step - loss: 0.0157 - acc: 0.9949 - val_loss: 0.0315 - val_acc: 0.9894\n",
      "Epoch 10/20\n",
      "60000/60000 [==============================] - 14s 240us/step - loss: 0.0144 - acc: 0.9954 - val_loss: 0.0274 - val_acc: 0.9918\n",
      "Epoch 11/20\n",
      "60000/60000 [==============================] - 14s 240us/step - loss: 0.0114 - acc: 0.9964 - val_loss: 0.0339 - val_acc: 0.9899\n",
      "Epoch 12/20\n",
      "60000/60000 [==============================] - 14s 240us/step - loss: 0.0096 - acc: 0.9968 - val_loss: 0.0325 - val_acc: 0.9909\n",
      "Epoch 13/20\n",
      "60000/60000 [==============================] - 14s 240us/step - loss: 0.0112 - acc: 0.9963 - val_loss: 0.0327 - val_acc: 0.9904\n",
      "Epoch 14/20\n",
      "60000/60000 [==============================] - 14s 240us/step - loss: 0.0075 - acc: 0.9974 - val_loss: 0.0366 - val_acc: 0.9900\n",
      "Epoch 15/20\n",
      "60000/60000 [==============================] - 14s 241us/step - loss: 0.0091 - acc: 0.9969 - val_loss: 0.0391 - val_acc: 0.9897\n",
      "Epoch 16/20\n",
      "60000/60000 [==============================] - 14s 240us/step - loss: 0.0073 - acc: 0.9977 - val_loss: 0.0349 - val_acc: 0.9920\n",
      "Epoch 17/20\n",
      "60000/60000 [==============================] - 14s 239us/step - loss: 0.0075 - acc: 0.9977 - val_loss: 0.0340 - val_acc: 0.9918\n",
      "Epoch 18/20\n",
      "60000/60000 [==============================] - 14s 240us/step - loss: 0.0075 - acc: 0.9977 - val_loss: 0.0361 - val_acc: 0.9900\n",
      "Epoch 19/20\n",
      "60000/60000 [==============================] - 14s 241us/step - loss: 0.0055 - acc: 0.9982 - val_loss: 0.0350 - val_acc: 0.9911\n",
      "Epoch 20/20\n",
      "60000/60000 [==============================] - 14s 240us/step - loss: 0.0065 - acc: 0.9979 - val_loss: 0.0388 - val_acc: 0.9901\n"
     ]
    }
   ],
   "source": [
    "model.compile(optimizer = 'adam',loss = 'categorical_crossentropy', metrics = ['accuracy'])\n",
    "history = model.fit(X_train, Y_train, validation_data = (X_test,Y_test),epochs = epochs, batch_size = batch_size, verbose = 1)"
   ]
  },
  {
   "cell_type": "code",
   "execution_count": 7,
   "metadata": {
    "colab": {
     "base_uri": "https://localhost:8080/",
     "height": 442
    },
    "colab_type": "code",
    "id": "eIw_80004xAU",
    "outputId": "d0db83bb-e8e0-450d-a4ab-6a34850cbd5e"
   },
   "outputs": [
    {
     "name": "stdout",
     "output_type": "stream",
     "text": [
      "Test loss:  0.038831931958390443\n",
      "Test accuracy:  0.9901\n"
     ]
    },
    {
     "data": {
      "image/png": "[encoded data removed]",
      "text/plain": [
       "<Figure size 1296x432 with 2 Axes>"
      ]
     },
     "metadata": {
      "tags": []
     },
     "output_type": "display_data"
    }
   ],
   "source": [
    "score = model.evaluate(X_test, Y_test, verbose = 0)\n",
    "print('Test loss: ', score[0])\n",
    "print('Test accuracy: ', score[1])\n",
    "\n",
    "train_loss = history.history['loss']\n",
    "cv_loss    = history.history['val_loss']\n",
    "fig, (ax1, ax2) = plt.subplots(1,2,figsize = (18, 6))\n",
    "ax1.plot(range(1, epochs+1), train_loss, label = 'Train')\n",
    "ax1.plot(range(1, epochs+1), cv_loss, label = 'CV')\n",
    "ax1.set_xticks(range(1,21))\n",
    "ax1.legend(fontsize = 12)\n",
    "ax1.set_xlabel('#epochs', fontsize = 12)\n",
    "ax1.set_ylabel('Error (categorical cross entropy)', fontsize = 12)\n",
    "ax1.set_title('loss vs epochs', fontsize = 14)\n",
    "\n",
    "ax2.set_title('Zommed view of plot', fontsize = 14)\n",
    "ax2.plot(range(4, epochs+1), train_loss[3:], label = 'Train')\n",
    "ax2.plot(range(4, epochs+1), cv_loss[3:], label = 'CV')\n",
    "ax2.legend(fontsize = 12)\n",
    "ax2.set_xlabel('#epochs', fontsize = 12)\n",
    "ax2.set_ylabel('Error (categorical cross entropy)', fontsize = 12)\n",
    "plt.show()"
   ]
  },
  {
   "cell_type": "markdown",
   "metadata": {
    "colab_type": "text",
    "id": "ejKA-rPGf6Y4"
   },
   "source": [
    "# With 5-Convenet Layer"
   ]
  },
  {
   "cell_type": "markdown",
   "metadata": {
    "colab_type": "text",
    "id": "Qmpfmhp5QXrG"
   },
   "source": [
    "***input --> 1<sup>st</sup> ConvNet(5,5)16 --> relu --> Batch Normalization + dropout --> 2<sup>nd</sup> ConvNet(5,5)24 --> relu --> Batch Normalization + dropout --> MaxPooling[(2,2),s=2] --> 3 <sup>rd</sup> ConvNet(5,5)40 --> relu --> Batch Normalization + dropout --> 4 <sup>th</sup> ConvNet(5,5)64 --> relu --> Batch Normalization + dropout --> MaxPooling[(2,2), s=2] --> 5 <sup>th</sup> ConveNet(5,5)80 --> relu --> Batch Normalization + dropout --> flatten --> F.C.(720, 'relu' activation) --> softmax(10)***"
   ]
  },
  {
   "cell_type": "code",
   "execution_count": 8,
   "metadata": {
    "colab": {
     "base_uri": "https://localhost:8080/",
     "height": 833
    },
    "colab_type": "code",
    "id": "fZoj4j8HgDzK",
    "outputId": "ebbfac24-fe1b-4edb-e8c4-3c03880ffa01"
   },
   "outputs": [
    {
     "name": "stdout",
     "output_type": "stream",
     "text": [
      "Model: \"sequential_2\"\n",
      "_________________________________________________________________\n",
      "Layer (type)                 Output Shape              Param #   \n",
      "=================================================================\n",
      "conv2d_4 (Conv2D)            (None, 28, 28, 16)        416       \n",
      "_________________________________________________________________\n",
      "batch_normalization_2 (Batch (None, 28, 28, 16)        64        \n",
      "_________________________________________________________________\n",
      "dropout_2 (Dropout)          (None, 28, 28, 16)        0         \n",
      "_________________________________________________________________\n",
      "conv2d_5 (Conv2D)            (None, 28, 28, 24)        9624      \n",
      "_________________________________________________________________\n",
      "batch_normalization_3 (Batch (None, 28, 28, 24)        96        \n",
      "_________________________________________________________________\n",
      "dropout_3 (Dropout)          (None, 28, 28, 24)        0         \n",
      "_________________________________________________________________\n",
      "max_pooling2d_2 (MaxPooling2 (None, 14, 14, 24)        0         \n",
      "_________________________________________________________________\n",
      "conv2d_6 (Conv2D)            (None, 14, 14, 40)        24040     \n",
      "_________________________________________________________________\n",
      "batch_normalization_4 (Batch (None, 14, 14, 40)        160       \n",
      "_________________________________________________________________\n",
      "dropout_4 (Dropout)          (None, 14, 14, 40)        0         \n",
      "_________________________________________________________________\n",
      "conv2d_7 (Conv2D)            (None, 14, 14, 64)        64064     \n",
      "_________________________________________________________________\n",
      "batch_normalization_5 (Batch (None, 14, 14, 64)        256       \n",
      "_________________________________________________________________\n",
      "dropout_5 (Dropout)          (None, 14, 14, 64)        0         \n",
      "_________________________________________________________________\n",
      "max_pooling2d_3 (MaxPooling2 (None, 7, 7, 64)          0         \n",
      "_________________________________________________________________\n",
      "conv2d_8 (Conv2D)            (None, 7, 7, 80)          128080    \n",
      "_________________________________________________________________\n",
      "batch_normalization_6 (Batch (None, 7, 7, 80)          320       \n",
      "_________________________________________________________________\n",
      "dropout_6 (Dropout)          (None, 7, 7, 80)          0         \n",
      "_________________________________________________________________\n",
      "flatten_2 (Flatten)          (None, 3920)              0         \n",
      "_________________________________________________________________\n",
      "dense_3 (Dense)              (None, 720)               2823120   \n",
      "_________________________________________________________________\n",
      "dense_4 (Dense)              (None, 10)                7210      \n",
      "=================================================================\n",
      "Total params: 3,057,450\n",
      "Trainable params: 3,057,002\n",
      "Non-trainable params: 448\n",
      "_________________________________________________________________\n"
     ]
    }
   ],
   "source": [
    "model2 = Sequential()\n",
    "#first ConvNet layer\n",
    "model2.add(Conv2D(16, kernel_size = (5,5), activation = 'relu', padding = 'same', \n",
    "                 input_shape = (X_train.shape[1], X_train.shape[2],1),\n",
    "                 kernel_initializer = 'he_normal', data_format = 'channels_last'))\n",
    "#adding batch normalization\n",
    "model2.add(BatchNormalization())\n",
    "#adding dropout\n",
    "model2.add(Dropout(0.4))\n",
    "\n",
    "\n",
    "#second ConvNet layer\n",
    "model2.add(Conv2D(24, kernel_size = (5,5), activation = 'relu', padding = 'same',\n",
    "                 kernel_initializer = 'he_normal'))\n",
    "#adding batch normalization\n",
    "model2.add(BatchNormalization())\n",
    "#adding dropout\n",
    "model2.add(Dropout(0.4))\n",
    "#adding MaxPooling\n",
    "model2.add(MaxPooling2D(pool_size = (2,2), strides = 2, padding = 'same'))\n",
    "\n",
    "\n",
    "#third ConvNet layer\n",
    "model2.add(Conv2D(40, kernel_size = (5,5), activation = 'relu', padding = 'same',\n",
    "                kernel_initializer = 'he_normal'))\n",
    "#adding batch normalization\n",
    "model2.add(BatchNormalization())\n",
    "#adding dropout\n",
    "model2.add(Dropout(0.4))\n",
    "\n",
    "\n",
    "#fourth ConvNet layer\n",
    "model2.add(Conv2D(64, kernel_size = (5,5), activation = 'relu', padding = 'same',\n",
    "                kernel_initializer = 'he_normal'))\n",
    "#adding batch normalization\n",
    "model2.add(BatchNormalization())\n",
    "#adding dropout\n",
    "model2.add(Dropout(0.4))\n",
    "#adding MaxPooling\n",
    "model2.add(MaxPooling2D(pool_size = (2,2), strides = 2, padding = 'same'))\n",
    "\n",
    "#fifth ConvNet layer\n",
    "model2.add(Conv2D(80, kernel_size = (5,5), activation = 'relu', padding = 'same',\n",
    "                kernel_initializer = 'he_normal'))\n",
    "#adding batch normalization\n",
    "model2.add(BatchNormalization())\n",
    "#adding dropout\n",
    "model2.add(Dropout(0.4))\n",
    "#flatted the ConvNet output\n",
    "model2.add(Flatten())\n",
    "\n",
    "#add dense layer with relu activations\n",
    "model2.add(Dense(720, activation = 'relu', kernel_initializer = 'he_normal'))\n",
    "\n",
    "#add softmax unit\n",
    "model2.add(Dense(num_class, activation = 'softmax', kernel_initializer = 'he_normal'))\n",
    "\n",
    "model2.summary()"
   ]
  },
  {
   "cell_type": "code",
   "execution_count": 9,
   "metadata": {
    "colab": {
     "base_uri": "https://localhost:8080/",
     "height": 714
    },
    "colab_type": "code",
    "id": "zYCvF27azj_u",
    "outputId": "f7b07feb-20c5-4c0a-cbac-a3f3205a9524"
   },
   "outputs": [
    {
     "name": "stdout",
     "output_type": "stream",
     "text": [
      "Train on 60000 samples, validate on 10000 samples\n",
      "Epoch 1/20\n",
      "60000/60000 [==============================] - 22s 367us/step - loss: 0.2582 - acc: 0.9252 - val_loss: 0.0896 - val_acc: 0.9696\n",
      "Epoch 2/20\n",
      "60000/60000 [==============================] - 20s 337us/step - loss: 0.0785 - acc: 0.9760 - val_loss: 0.0657 - val_acc: 0.9789\n",
      "Epoch 3/20\n",
      "60000/60000 [==============================] - 20s 337us/step - loss: 0.0596 - acc: 0.9819 - val_loss: 0.0473 - val_acc: 0.9851\n",
      "Epoch 4/20\n",
      "60000/60000 [==============================] - 20s 339us/step - loss: 0.0466 - acc: 0.9866 - val_loss: 0.0300 - val_acc: 0.9902\n",
      "Epoch 5/20\n",
      "60000/60000 [==============================] - 20s 337us/step - loss: 0.0406 - acc: 0.9872 - val_loss: 0.0289 - val_acc: 0.9903\n",
      "Epoch 6/20\n",
      "60000/60000 [==============================] - 20s 337us/step - loss: 0.0381 - acc: 0.9882 - val_loss: 0.0293 - val_acc: 0.9903\n",
      "Epoch 7/20\n",
      "60000/60000 [==============================] - 20s 337us/step - loss: 0.0346 - acc: 0.9893 - val_loss: 0.0273 - val_acc: 0.9915\n",
      "Epoch 8/20\n",
      "60000/60000 [==============================] - 20s 337us/step - loss: 0.0300 - acc: 0.9905 - val_loss: 0.0323 - val_acc: 0.9896\n",
      "Epoch 9/20\n",
      "60000/60000 [==============================] - 20s 337us/step - loss: 0.0279 - acc: 0.9918 - val_loss: 0.0272 - val_acc: 0.9917\n",
      "Epoch 10/20\n",
      "60000/60000 [==============================] - 20s 336us/step - loss: 0.0274 - acc: 0.9917 - val_loss: 0.0391 - val_acc: 0.9884\n",
      "Epoch 11/20\n",
      "60000/60000 [==============================] - 20s 337us/step - loss: 0.0235 - acc: 0.9927 - val_loss: 0.0370 - val_acc: 0.9886\n",
      "Epoch 12/20\n",
      "60000/60000 [==============================] - 20s 337us/step - loss: 0.0229 - acc: 0.9927 - val_loss: 0.0239 - val_acc: 0.9931\n",
      "Epoch 13/20\n",
      "60000/60000 [==============================] - 20s 337us/step - loss: 0.0233 - acc: 0.9928 - val_loss: 0.0193 - val_acc: 0.9930\n",
      "Epoch 14/20\n",
      "60000/60000 [==============================] - 20s 338us/step - loss: 0.0192 - acc: 0.9938 - val_loss: 0.0216 - val_acc: 0.9945\n",
      "Epoch 15/20\n",
      "60000/60000 [==============================] - 20s 337us/step - loss: 0.0206 - acc: 0.9939 - val_loss: 0.0260 - val_acc: 0.9942\n",
      "Epoch 16/20\n",
      "60000/60000 [==============================] - 20s 337us/step - loss: 0.0194 - acc: 0.9941 - val_loss: 0.0341 - val_acc: 0.9926\n",
      "Epoch 17/20\n",
      "60000/60000 [==============================] - 20s 338us/step - loss: 0.0193 - acc: 0.9940 - val_loss: 0.0257 - val_acc: 0.9939\n",
      "Epoch 18/20\n",
      "60000/60000 [==============================] - 20s 338us/step - loss: 0.0165 - acc: 0.9950 - val_loss: 0.0336 - val_acc: 0.9929\n",
      "Epoch 19/20\n",
      "60000/60000 [==============================] - 20s 339us/step - loss: 0.0171 - acc: 0.9948 - val_loss: 0.0349 - val_acc: 0.9932\n",
      "Epoch 20/20\n",
      "60000/60000 [==============================] - 20s 338us/step - loss: 0.0176 - acc: 0.9948 - val_loss: 0.0246 - val_acc: 0.9932\n"
     ]
    }
   ],
   "source": [
    "model2.compile(optimizer = 'adam', loss = 'categorical_crossentropy', metrics = ['accuracy'])\n",
    "history2 = model2.fit(X_train, Y_train, validation_data = (X_test, Y_test), epochs = epochs, batch_size = batch_size, verbose = 1)"
   ]
  },
  {
   "cell_type": "code",
   "execution_count": 10,
   "metadata": {
    "colab": {
     "base_uri": "https://localhost:8080/",
     "height": 442
    },
    "colab_type": "code",
    "id": "AD6n2A8M4UYZ",
    "outputId": "b8eae84f-0889-4833-9de2-067c4344a546"
   },
   "outputs": [
    {
     "name": "stdout",
     "output_type": "stream",
     "text": [
      "Test loss:  0.024633801211849958\n",
      "Test accuracy:  0.9932\n"
     ]
    },
    {
     "data": {
      "image/png": "[encoded data removed]",
      "text/plain": [
       "<Figure size 576x432 with 1 Axes>"
      ]
     },
     "metadata": {
      "tags": []
     },
     "output_type": "display_data"
    }
   ],
   "source": [
    "score = model2.evaluate(X_test, Y_test, verbose = 0)\n",
    "print('Test loss: ', score[0])\n",
    "print('Test accuracy: ', score[1])\n",
    "\n",
    "train_loss = history2.history['loss']\n",
    "cv_loss    = history2.history['val_loss']\n",
    "\n",
    "plt.figure(figsize = (8, 6))\n",
    "plt.plot(range(1, epochs+1), train_loss, label = 'Train')\n",
    "plt.plot(range(1, epochs+1), cv_loss, label = 'CV')\n",
    "plt.xticks(range(1,21))\n",
    "plt.legend(fontsize = 12)\n",
    "plt.xlabel('#epochs', fontsize = 12)\n",
    "plt.ylabel('Error (categorical cross entropy)', fontsize = 12)\n",
    "plt.title('loss vs epochs', fontsize = 14)\n",
    "plt.show()"
   ]
  },
  {
   "cell_type": "markdown",
   "metadata": {
    "colab_type": "text",
    "id": "uaz-v58Qg7l1"
   },
   "source": [
    "# With 7-ConvNet Layer"
   ]
  },
  {
   "cell_type": "markdown",
   "metadata": {
    "colab_type": "text",
    "id": "V0SlIf3zT1Hy"
   },
   "source": [
    "***input --> 1<sup>st</sup> ConvNet(7,7)24 --> relu --> Batch Nomralization+dropout --> 2<sup>nd</sup> ConvNet(7,7)50 --> relu --> Batch Nomralization+dropout --> 3<sup>rd</sup> ConvNet(7,7)70 --> relu --> Batch Nomralization+dropout --> MaxPool[(5,5),s=5] --> 4<sup>th</sup> ConvNet(7,7)90 --> relu --> Batch Nomralization+dropout --> 5<sup>th</sup> ConvNet(7,7)100 --> relu --> Batch Nomralization+dropout --> 6<sup>th</sup> ConvNet(7,7)110 --> relu --> Batch Nomralization+dropout --> MaxPool[(5,5),s=5] --> 7<sup>th</sup> ConvNet(7,7)130 --> Batch Nomralization+dropout --> flatten --> F.C.(260) --> softmax(10)***"
   ]
  },
  {
   "cell_type": "code",
   "execution_count": 11,
   "metadata": {
    "colab": {
     "base_uri": "https://localhost:8080/",
     "height": 1000
    },
    "colab_type": "code",
    "id": "FTvyXX7sg-0a",
    "outputId": "984542d0-d803-442f-b7f1-7b446c6dc58a"
   },
   "outputs": [
    {
     "name": "stdout",
     "output_type": "stream",
     "text": [
      "Model: \"sequential_3\"\n",
      "_________________________________________________________________\n",
      "Layer (type)                 Output Shape              Param #   \n",
      "=================================================================\n",
      "conv2d_9 (Conv2D)            (None, 28, 28, 24)        1200      \n",
      "_________________________________________________________________\n",
      "batch_normalization_7 (Batch (None, 28, 28, 24)        96        \n",
      "_________________________________________________________________\n",
      "dropout_7 (Dropout)          (None, 28, 28, 24)        0         \n",
      "_________________________________________________________________\n",
      "conv2d_10 (Conv2D)           (None, 28, 28, 50)        58850     \n",
      "_________________________________________________________________\n",
      "batch_normalization_8 (Batch (None, 28, 28, 50)        200       \n",
      "_________________________________________________________________\n",
      "dropout_8 (Dropout)          (None, 28, 28, 50)        0         \n",
      "_________________________________________________________________\n",
      "conv2d_11 (Conv2D)           (None, 28, 28, 70)        171570    \n",
      "_________________________________________________________________\n",
      "batch_normalization_9 (Batch (None, 28, 28, 70)        280       \n",
      "_________________________________________________________________\n",
      "dropout_9 (Dropout)          (None, 28, 28, 70)        0         \n",
      "_________________________________________________________________\n",
      "max_pooling2d_4 (MaxPooling2 (None, 6, 6, 70)          0         \n",
      "_________________________________________________________________\n",
      "conv2d_12 (Conv2D)           (None, 6, 6, 90)          308790    \n",
      "_________________________________________________________________\n",
      "batch_normalization_10 (Batc (None, 6, 6, 90)          360       \n",
      "_________________________________________________________________\n",
      "dropout_10 (Dropout)         (None, 6, 6, 90)          0         \n",
      "_________________________________________________________________\n",
      "conv2d_13 (Conv2D)           (None, 6, 6, 100)         441100    \n",
      "_________________________________________________________________\n",
      "batch_normalization_11 (Batc (None, 6, 6, 100)         400       \n",
      "_________________________________________________________________\n",
      "dropout_11 (Dropout)         (None, 6, 6, 100)         0         \n",
      "_________________________________________________________________\n",
      "conv2d_14 (Conv2D)           (None, 6, 6, 110)         539110    \n",
      "_________________________________________________________________\n",
      "batch_normalization_12 (Batc (None, 6, 6, 110)         440       \n",
      "_________________________________________________________________\n",
      "dropout_12 (Dropout)         (None, 6, 6, 110)         0         \n",
      "_________________________________________________________________\n",
      "max_pooling2d_5 (MaxPooling2 (None, 2, 2, 110)         0         \n",
      "_________________________________________________________________\n",
      "conv2d_15 (Conv2D)           (None, 2, 2, 130)         700830    \n",
      "_________________________________________________________________\n",
      "batch_normalization_13 (Batc (None, 2, 2, 130)         520       \n",
      "_________________________________________________________________\n",
      "dropout_13 (Dropout)         (None, 2, 2, 130)         0         \n",
      "_________________________________________________________________\n",
      "flatten_3 (Flatten)          (None, 520)               0         \n",
      "_________________________________________________________________\n",
      "dense_5 (Dense)              (None, 260)               135460    \n",
      "_________________________________________________________________\n",
      "dense_6 (Dense)              (None, 10)                2610      \n",
      "=================================================================\n",
      "Total params: 2,361,816\n",
      "Trainable params: 2,360,668\n",
      "Non-trainable params: 1,148\n",
      "_________________________________________________________________\n"
     ]
    }
   ],
   "source": [
    "model3 = Sequential()\n",
    "#first ConvNet layer\n",
    "model3.add(Conv2D(24, kernel_size = (7,7), activation = 'relu', padding = 'same', \n",
    "                 input_shape = (X_train.shape[1], X_train.shape[2],1),\n",
    "                 kernel_initializer = 'he_normal', data_format = 'channels_last'))\n",
    "#adding batch normalization\n",
    "model3.add(BatchNormalization())\n",
    "#adding dropout\n",
    "model3.add(Dropout(0.5))\n",
    "\n",
    "\n",
    "#second ConvNet layer\n",
    "model3.add(Conv2D(50, kernel_size = (7,7), activation = 'relu', padding = 'same',\n",
    "                 kernel_initializer = 'he_normal'))\n",
    "#adding batch normalization\n",
    "model3.add(BatchNormalization())\n",
    "#adding dropout\n",
    "model3.add(Dropout(0.5))\n",
    "\n",
    "\n",
    "#third ConvNet layer\n",
    "model3.add(Conv2D(70, kernel_size = (7,7), activation = 'relu', padding = 'same',\n",
    "                kernel_initializer = 'he_normal'))\n",
    "#adding batch normalization\n",
    "model3.add(BatchNormalization())\n",
    "#adding dropout\n",
    "model3.add(Dropout(0.5))\n",
    "#adding MaxPooling\n",
    "model3.add(MaxPooling2D(pool_size = (5,5), strides = 5, padding = 'same'))\n",
    "\n",
    "\n",
    "#fourth ConvNet layer\n",
    "model3.add(Conv2D(90, kernel_size = (7,7), activation = 'relu', padding = 'same',\n",
    "                kernel_initializer = 'he_normal'))\n",
    "#adding batch normalization\n",
    "model3.add(BatchNormalization())\n",
    "#adding dropout\n",
    "model3.add(Dropout(0.5))\n",
    "\n",
    "\n",
    "#fifth ConvNet layer\n",
    "model3.add(Conv2D(100, kernel_size = (7,7), activation = 'relu', padding = 'same',\n",
    "                kernel_initializer = 'he_normal'))\n",
    "#adding batch normalization\n",
    "model3.add(BatchNormalization())\n",
    "#adding dropout\n",
    "model3.add(Dropout(0.5))\n",
    "\n",
    "\n",
    "#sixth ConvNet layer\n",
    "model3.add(Conv2D(110, kernel_size = (7,7), activation = 'relu', padding = 'same',\n",
    "                kernel_initializer = 'he_normal'))\n",
    "#adding batch normalization\n",
    "model3.add(BatchNormalization())\n",
    "#adding dropout\n",
    "model3.add(Dropout(0.5))\n",
    "#adding MaxPooling\n",
    "model3.add(MaxPooling2D(pool_size = (5,5), strides = 5, padding = 'same'))\n",
    "\n",
    "\n",
    "#seventh ConvNet layer\n",
    "model3.add(Conv2D(130, kernel_size = (7,7), activation = 'relu', padding = 'same',\n",
    "                kernel_initializer = 'he_normal'))\n",
    "#adding batch normalization\n",
    "model3.add(BatchNormalization())\n",
    "#adding dropout\n",
    "model3.add(Dropout(0.5))\n",
    "\n",
    "#flatted the ConvNet output\n",
    "model3.add(Flatten())\n",
    "\n",
    "\n",
    "#add dense layer with relu activations\n",
    "model3.add(Dense(260, activation = 'relu', kernel_initializer = 'he_normal'))\n",
    "\n",
    "#add softmax unit\n",
    "model3.add(Dense(num_class, activation = 'softmax', kernel_initializer = 'he_normal'))\n",
    "\n",
    "model3.summary()"
   ]
  },
  {
   "cell_type": "code",
   "execution_count": 12,
   "metadata": {
    "colab": {
     "base_uri": "https://localhost:8080/",
     "height": 714
    },
    "colab_type": "code",
    "id": "ljjVMNAv183Y",
    "outputId": "dba5de17-017f-4bcb-f6f7-2302dc8c0069"
   },
   "outputs": [
    {
     "name": "stdout",
     "output_type": "stream",
     "text": [
      "Train on 60000 samples, validate on 10000 samples\n",
      "Epoch 1/20\n",
      "60000/60000 [==============================] - 62s 1ms/step - loss: 0.6965 - acc: 0.7593 - val_loss: 3.4048 - val_acc: 0.3093\n",
      "Epoch 2/20\n",
      "60000/60000 [==============================] - 59s 979us/step - loss: 0.1219 - acc: 0.9632 - val_loss: 1.4657 - val_acc: 0.6246\n",
      "Epoch 3/20\n",
      "60000/60000 [==============================] - 59s 977us/step - loss: 0.0854 - acc: 0.9741 - val_loss: 0.8107 - val_acc: 0.7641\n",
      "Epoch 4/20\n",
      "60000/60000 [==============================] - 59s 978us/step - loss: 0.0681 - acc: 0.9802 - val_loss: 0.4741 - val_acc: 0.8605\n",
      "Epoch 5/20\n",
      "60000/60000 [==============================] - 59s 976us/step - loss: 0.0594 - acc: 0.9822 - val_loss: 0.3884 - val_acc: 0.8820\n",
      "Epoch 6/20\n",
      "60000/60000 [==============================] - 59s 976us/step - loss: 0.0527 - acc: 0.9844 - val_loss: 0.5125 - val_acc: 0.8463\n",
      "Epoch 7/20\n",
      "60000/60000 [==============================] - 59s 987us/step - loss: 0.0464 - acc: 0.9861 - val_loss: 0.3617 - val_acc: 0.8908\n",
      "Epoch 8/20\n",
      "60000/60000 [==============================] - 59s 988us/step - loss: 0.0432 - acc: 0.9874 - val_loss: 0.2491 - val_acc: 0.9234\n",
      "Epoch 9/20\n",
      "60000/60000 [==============================] - 59s 988us/step - loss: 0.0378 - acc: 0.9888 - val_loss: 0.6138 - val_acc: 0.8355\n",
      "Epoch 10/20\n",
      "60000/60000 [==============================] - 59s 989us/step - loss: 0.0371 - acc: 0.9891 - val_loss: 0.2972 - val_acc: 0.9151\n",
      "Epoch 11/20\n",
      "60000/60000 [==============================] - 59s 987us/step - loss: 0.0364 - acc: 0.9894 - val_loss: 0.1837 - val_acc: 0.9474\n",
      "Epoch 12/20\n",
      "60000/60000 [==============================] - 59s 984us/step - loss: 0.0330 - acc: 0.9901 - val_loss: 0.1990 - val_acc: 0.9439\n",
      "Epoch 13/20\n",
      "60000/60000 [==============================] - 59s 984us/step - loss: 0.0318 - acc: 0.9902 - val_loss: 0.2163 - val_acc: 0.9376\n",
      "Epoch 14/20\n",
      "60000/60000 [==============================] - 59s 982us/step - loss: 0.0295 - acc: 0.9904 - val_loss: 0.2180 - val_acc: 0.9375\n",
      "Epoch 15/20\n",
      "60000/60000 [==============================] - 59s 982us/step - loss: 0.0279 - acc: 0.9919 - val_loss: 0.1101 - val_acc: 0.9657\n",
      "Epoch 16/20\n",
      "60000/60000 [==============================] - 59s 987us/step - loss: 0.0248 - acc: 0.9925 - val_loss: 0.0905 - val_acc: 0.9748\n",
      "Epoch 17/20\n",
      "60000/60000 [==============================] - 59s 984us/step - loss: 0.0265 - acc: 0.9921 - val_loss: 0.1143 - val_acc: 0.9691\n",
      "Epoch 18/20\n",
      "60000/60000 [==============================] - 59s 981us/step - loss: 0.0254 - acc: 0.9927 - val_loss: 0.0658 - val_acc: 0.9821\n",
      "Epoch 19/20\n",
      "60000/60000 [==============================] - 59s 978us/step - loss: 0.0239 - acc: 0.9931 - val_loss: 0.0957 - val_acc: 0.9722\n",
      "Epoch 20/20\n",
      "60000/60000 [==============================] - 59s 982us/step - loss: 0.0225 - acc: 0.9936 - val_loss: 0.0632 - val_acc: 0.9813\n"
     ]
    }
   ],
   "source": [
    "model3.compile(optimizer = 'adam', loss = 'categorical_crossentropy', metrics = ['accuracy'])\n",
    "history3 = model3.fit(X_train, Y_train, validation_data = (X_test, Y_test), epochs = epochs, batch_size = batch_size, verbose = 1)"
   ]
  },
  {
   "cell_type": "code",
   "execution_count": 13,
   "metadata": {
    "colab": {
     "base_uri": "https://localhost:8080/",
     "height": 442
    },
    "colab_type": "code",
    "id": "QAq1gZOZ2NG2",
    "outputId": "f65f6981-c2a3-4093-ce92-6298fcb7cce5"
   },
   "outputs": [
    {
     "name": "stdout",
     "output_type": "stream",
     "text": [
      "Test loss:  0.06324766013510526\n",
      "Test accuracy:  0.9813\n"
     ]
    },
    {
     "data": {
      "image/png": "[encoded data removed]",
      "text/plain": [
       "<Figure size 1296x432 with 2 Axes>"
      ]
     },
     "metadata": {
      "tags": []
     },
     "output_type": "display_data"
    }
   ],
   "source": [
    "score = model3.evaluate(X_test, Y_test, verbose = 0)\n",
    "print('Test loss: ', score[0])\n",
    "print('Test accuracy: ', score[1])\n",
    "\n",
    "train_loss = history3.history['loss']\n",
    "cv_loss    = history3.history['val_loss']\n",
    "\n",
    "fig, (ax1, ax2) = plt.subplots(1,2,figsize = (18, 6))\n",
    "ax1.plot(range(1, epochs+1), train_loss, label = 'Train')\n",
    "ax1.plot(range(1, epochs+1), cv_loss, label = 'CV')\n",
    "ax1.set_xticks(range(1,21))\n",
    "ax1.legend(fontsize = 12)\n",
    "ax1.set_xlabel('#epochs', fontsize = 12)\n",
    "ax1.set_ylabel('Error (categorical cross entropy)', fontsize = 12)\n",
    "ax1.set_title('loss vs epochs', fontsize = 14)\n",
    "\n",
    "ax2.set_title('Zommed view of plot', fontsize = 14)\n",
    "ax2.plot(range(4, epochs+1), train_loss[3:], label = 'Train')\n",
    "ax2.plot(range(4, epochs+1), cv_loss[3:], label = 'CV')\n",
    "ax2.legend(fontsize = 12)\n",
    "ax2.set_xlabel('#epochs', fontsize = 12)\n",
    "ax2.set_ylabel('Error (categorical cross entropy)', fontsize = 12)\n",
    "plt.show()"
   ]
  },
  {
   "cell_type": "markdown",
   "metadata": {
    "colab_type": "text",
    "id": "eX0AyKM-jFnP"
   },
   "source": [
    "# Conclusion"
   ]
  },
  {
   "cell_type": "markdown",
   "metadata": {
    "colab_type": "text",
    "id": "6N2aeEkbjJtu"
   },
   "source": [
    "* With 3-ConvNet layer followed has test loss = 0.0388,  and test accuracy = 0.9901.\n",
    "* With 5-ConvNet layer followed has test loss = 0.0246, and test accuracy = 0.9932.\n",
    "* With 7-ConvNet layer followed has test loss = 0.0632, and test accuracy = 0.9813.\n",
    "\n",
    "Out of these three models 2<sup>nd</sup> model has best performance and even CNN with 3-ConvNet layer is giving much better performance than MLPs. But 3<sup>rd</sup> model which has 7-ConvNet layers (which is deep network) is not giving goog performance as compared to other two models. The reason behind this can be small dataset for training. Deep architecture with small dataset tend to overfit in training on data. It can be avoided by collecting more data (if possible) or we can go for data augmentation."
   ]
  },
  {
   "cell_type": "code",
   "execution_count": 0,
   "metadata": {
    "colab": {},
    "colab_type": "code",
    "id": "wZBPLAsto6Yc"
   },
   "outputs": [],
   "source": []
  }
 ],
 "metadata": {
  "accelerator": "GPU",
  "colab": {
   "collapsed_sections": [
    "ejKA-rPGf6Y4",
    "uaz-v58Qg7l1"
   ],
   "name": "MNIS_with_CNN.ipynb",
   "provenance": [],
   "version": "0.3.2"
  },
  "kernelspec": {
   "display_name": "Python 3",
   "language": "python",
   "name": "python3"
  },
  "language_info": {
   "codemirror_mode": {
    "name": "ipython",
    "version": 3
   },
   "file_extension": ".py",
   "mimetype": "text/x-python",
   "name": "python",
   "nbconvert_exporter": "python",
   "pygments_lexer": "ipython3",
   "version": "3.6.8"
  }
 },
 "nbformat": 4,
 "nbformat_minor": 1
}
